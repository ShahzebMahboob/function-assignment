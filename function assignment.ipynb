{
 "cells": [
  {
   "cell_type": "markdown",
   "id": "3bbbf06a-7ba3-497c-8b26-1edd62bd425b",
   "metadata": {},
   "source": [
    "#Theory Questions:"
   ]
  },
  {
   "cell_type": "code",
   "execution_count": 2,
   "id": "12d526f6-271f-4991-a42d-1122657d3691",
   "metadata": {},
   "outputs": [],
   "source": [
    "#Q1. What is the difference between a function and a method in Python?\n",
    "#Ans. In Python, functions and methods are similar in many ways — both are blocks of reusable code that perform a specific task. However, they differ primarily in how they are defined and used.\n",
    "# Function:\n",
    "#* A function is defined using the def keyword and exists independently of any object.\n",
    "#* It is not bound to a class or object, though it can be used inside a class.\n",
    "#* Can be called on its own.\n",
    "\n",
    "#Example:\n",
    "def greet(name):\n",
    "    return f\"Hello, {name}!\"\n",
    "\n",
    "greet(\"Alice\")  # Output: 'Hello, Alice!'\n",
    "\n",
    "\n",
    "#Methods: A method in Python is a function that is associated with an object. It is defined within a class and is designed to operate on instances of that class. It takes at least one parameter (self for instance methods) that refers to the object calling it.\n",
    "class Calculator:\n",
    "    def add(self, a, b):\n",
    "        return a + b\n"
   ]
  },
  {
   "cell_type": "code",
   "execution_count": 4,
   "id": "c84bc6e8-6c39-4afc-bf17-2b72a2555b85",
   "metadata": {},
   "outputs": [
    {
     "name": "stdout",
     "output_type": "stream",
     "text": [
      "Hello, Alice\n"
     ]
    }
   ],
   "source": [
    "#Q2. Explain the concept of function arguments and parameters in Python.\n",
    "#Ans. Here are the definitions of function arguments and parameters in Python:\n",
    "#Parameter: A parameter is a variable defined inside the parentheses of a function definition. It acts as a placeholder for the value that will be passed into the function.\n",
    "#Example:\n",
    "def greet(name):  # 'name' is a parameter\n",
    "    print(f\"Hello, {name}\")\n",
    "\n",
    "#Argument: An argument is the actual value passed to a function when it is called. This value is assigned to the corresponding parameter.\n",
    "#Example:\n",
    "greet(\"Alice\")  # \"Alice\" is an argument\n"
   ]
  },
  {
   "cell_type": "code",
   "execution_count": 6,
   "id": "5ea643f2-ade9-40c6-a659-86e7c0be9931",
   "metadata": {},
   "outputs": [
    {
     "name": "stdout",
     "output_type": "stream",
     "text": [
      "12\n"
     ]
    }
   ],
   "source": [
    "#Q3. What are the different ways to define and call a function in Python?\n",
    "#Ans. In Python, functions can be defined and called in several different ways, depending on your needs. Here's a complete overview:\n",
    "# Positional Arguments:\n",
    "def add(a, b):\n",
    "    return a + b\n",
    "\n",
    "add(2, 3)\n",
    "\n",
    "# Keyword Arguments:\n",
    "add(a=2, b=3)\n",
    "\n",
    "#  Mixing Positional and Keyword Arguments:\n",
    "add(2, b=3)\n",
    "\n",
    "# **Calling with *args and kwargs:\n",
    "def add(a, b):\n",
    "    return a + b\n",
    "\n",
    "args = (2, 3)\n",
    "add(*args)  # Unpacks the tuple\n",
    "\n",
    "kwargs = {'a': 2, 'b': 3}\n",
    "add(**kwargs)  # Unpacks the dictionary\n",
    "\n",
    "# Calling Lambda Functions:\n",
    "add = lambda x, y: x + y\n",
    "print(add(5, 7))\n"
   ]
  },
  {
   "cell_type": "code",
   "execution_count": 8,
   "id": "033e579f-330e-4fc4-a33e-e9aa032dea11",
   "metadata": {},
   "outputs": [
    {
     "name": "stdout",
     "output_type": "stream",
     "text": [
      "8\n"
     ]
    }
   ],
   "source": [
    "#Q4.  What is the purpose of the `return` statement in a Python function?\n",
    "#Ans. The return statement is used to send a value from a function back to the caller. It ends the function’s execution and optionally passes back a result.\n",
    "def add(a, b):\n",
    "    return a + b\n",
    "\n",
    "result = add(3, 5)\n",
    "print(result)  # Output: 8\n"
   ]
  },
  {
   "cell_type": "code",
   "execution_count": 12,
   "id": "99fcf935-a5d6-49a7-9a9c-752bbaf5badf",
   "metadata": {},
   "outputs": [
    {
     "name": "stdout",
     "output_type": "stream",
     "text": [
      "1\n",
      "2\n",
      "3\n",
      "1\n",
      "2\n",
      "3\n"
     ]
    }
   ],
   "source": [
    "#Q5. What are iterators in Python and how do they differ from iterables?\n",
    "#Ans. These two terms sound similar but have distinct meanings in Python. Let's break them down clearly:\n",
    "# Iterable:An iterable is any Python object capable of returning its elements one at a time. It has a method called __iter__() that returns an iterator.\n",
    "# Example:\n",
    "my_list = [1, 2, 3]  # This is an iterable\n",
    "for item in my_list:\n",
    "    print(item)\n",
    "# Iterator: An iterator is an object that keeps state and knows how to get the next value from an iterable. It implements two methods:\n",
    "#* __iter__() – returns the iterator object itself\n",
    "#* __next__() – returns the next item, or raises StopIteration when there are no more items\n",
    "# Exaple:\n",
    "my_list = [1, 2, 3]\n",
    "my_iter = iter(my_list)  # Convert iterable to iterator\n",
    "\n",
    "print(next(my_iter))  # 1\n",
    "print(next(my_iter))  # 2\n",
    "print(next(my_iter))  # 3\n",
    "# print(next(my_iter))  # Raises StopIteration\n",
    "\n",
    "\n"
   ]
  },
  {
   "cell_type": "code",
   "execution_count": 16,
   "id": "9af25535-7af1-470c-bc2c-47e58ed3553e",
   "metadata": {},
   "outputs": [
    {
     "name": "stdout",
     "output_type": "stream",
     "text": [
      "1\n",
      "2\n",
      "3\n"
     ]
    }
   ],
   "source": [
    "#Q6.  Explain the concept of generators in Python and how they are defined.\n",
    "#Ans. A generator is a special kind of function in Python that produces values one at a time using the yield keyword instead of return.\n",
    "# They are memory-efficient, especially useful when working with large data sets or streams.\n",
    "# Key Concepts of Generators:\n",
    "def count_up_to(n):\n",
    "    i = 1\n",
    "    while i <= n:\n",
    "        yield i\n",
    "        i += 1\n",
    "gen = count_up_to(3)\n",
    "print(next(gen))  # 1\n",
    "print(next(gen))  # 2\n",
    "print(next(gen))  # 3\n",
    "# next(gen) would now raise StopIteration\n"
   ]
  },
  {
   "cell_type": "code",
   "execution_count": 19,
   "id": "5cf96c54-d3ec-4c27-a184-4f35346137bc",
   "metadata": {},
   "outputs": [
    {
     "ename": "IndentationError",
     "evalue": "unindent does not match any outer indentation level (<string>, line 7)",
     "output_type": "error",
     "traceback": [
      "\u001b[1;36m  File \u001b[1;32m<string>:7\u001b[1;36m\u001b[0m\n\u001b[1;33m    def get_numbers():\u001b[0m\n\u001b[1;37m                      ^\u001b[0m\n\u001b[1;31mIndentationError\u001b[0m\u001b[1;31m:\u001b[0m unindent does not match any outer indentation level\n"
     ]
    }
   ],
   "source": [
    "#Q7.  What are the advantages of using generators over regular functions?\n",
    "#Ans. Advantages of Using Generators Over Regular Functions in Python:\n",
    "# Generators offer several key benefits, especially when dealing with large data, performance-sensitive code, or infinite sequences.\n",
    "#* Memory Efficiency:\n",
    "def get_numbers():\n",
    "    return [i for i in range(1000000)]  # Consumes a lot of memory\n",
    " def get_numbers():\n",
    "    for i in range(1000000):\n",
    "        yield i  # Memory efficient\n",
    "   \n",
    "\n",
    "#* Lazy Evaluation:\n",
    "def infinite_counter():\n",
    "    i = 0\n",
    "    while True:\n",
    "        yield i\n",
    "        i += 1\n",
    "#* Better Performance with Loops:\n",
    "for num in generate_numbers():\n",
    "    if num > 1000:\n",
    "        break\n",
    "#* Simpler Syntax for Complex Iterators:\n",
    "class Counter:\n",
    "    def __init__(self, max):\n",
    "        self.i = 0\n",
    "        self.max = max\n",
    "    def __iter__(self):\n",
    "        return self\n",
    "    def __next__(self):\n",
    "        if self.i < self.max:\n",
    "            self.i += 1\n",
    "            return self.i\n",
    "        raise StopIteration\n"
   ]
  },
  {
   "cell_type": "code",
   "execution_count": 21,
   "id": "17ee50dc-8bca-4b52-a9b5-bbda1a44a7f9",
   "metadata": {},
   "outputs": [
    {
     "name": "stdout",
     "output_type": "stream",
     "text": [
      "8\n"
     ]
    }
   ],
   "source": [
    "#Q8. What is a lambda function in Python and when is it typically used?\n",
    "#Ans. A lambda function is a small, anonymous (unnamed) function defined using the lambda keyword. It's used to create quick, one-line functions without having to formally define them using def.\n",
    "# Regular function\n",
    "def add(x, y):\n",
    "    return x + y\n",
    "\n",
    "# Lambda equivalent\n",
    "add_lambda = lambda x, y: x + y\n",
    "\n",
    "print(add_lambda(5, 3))  # Output: 8\n"
   ]
  },
  {
   "cell_type": "code",
   "execution_count": 23,
   "id": "14f93c11-4070-45a8-ba08-bc9e2956bc20",
   "metadata": {},
   "outputs": [
    {
     "name": "stdout",
     "output_type": "stream",
     "text": [
      "[1, 4, 9, 16, 25]\n"
     ]
    }
   ],
   "source": [
    "#Q9. Explain the purpose and usage of the `map()` function in Python.\n",
    "#Ans. map() is a built-in Python function used to apply a given function to every item of an iterable (like a list, tuple, etc.) and returns an iterator with the results.\n",
    "#Example:\n",
    "# Using map() to square numbers\n",
    "numbers = [1, 2, 3, 4, 5]\n",
    "squared = map(lambda x: x**2, numbers)\n",
    "\n",
    "print(list(squared))  # Output: [1, 4, 9, 16, 25]\n"
   ]
  },
  {
   "cell_type": "code",
   "execution_count": 25,
   "id": "d2034f71-81ee-485f-a442-72306adb3fae",
   "metadata": {},
   "outputs": [
    {
     "name": "stdout",
     "output_type": "stream",
     "text": [
      "[1, 4, 9, 16]\n",
      "[2, 4]\n",
      "24\n"
     ]
    }
   ],
   "source": [
    "#Q10. What is the difference between `map()`, `reduce()`, and `filter()` functions in Python?\n",
    "#Ans. Great question! Here’s a clear breakdown of the differences between map(), reduce(), and filter() in Python:\n",
    "# map() >> Apply a function to every item in one or more iterables.\n",
    "# Example: \n",
    "nums = [1, 2, 3, 4]\n",
    "squared = map(lambda x: x**2, nums)  # Squares each number\n",
    "print(list(squared))  # [1, 4, 9, 16]\n",
    "\n",
    "# filter() >> Filter items in an iterable based on a condition.\n",
    "# Example:\n",
    "nums = [1, 2, 3, 4]\n",
    "even = filter(lambda x: x % 2 == 0, nums)  # Keeps only even numbers\n",
    "print(list(even))  # [2, 4]\n",
    "\n",
    "#  reduce() >> Apply a function cumulatively to the items of an iterable, reducing it to a single value.\n",
    "# Example:\n",
    "from functools import reduce\n",
    "\n",
    "nums = [1, 2, 3, 4]\n",
    "product = reduce(lambda x, y: x * y, nums)  # Multiplies all numbers\n",
    "print(product)  # 24\n"
   ]
  },
  {
   "cell_type": "code",
   "execution_count": 31,
   "id": "5eed3be0-2860-4e0a-8749-8164cba8b106",
   "metadata": {},
   "outputs": [
    {
     "name": "stdout",
     "output_type": "stream",
     "text": [
      "113\n"
     ]
    }
   ],
   "source": [
    "#Q11.  Using pen & Paper write the internal mechanism for sum operation using  reduce function on this given list:[47,11,42,13]; \n",
    "from functools import reduce\n",
    "\n",
    "num = [47, 11, 42, 13]\n",
    "\n",
    "result = reduce(lambda x, y: x + y, num)\n",
    "print(result)  # Output: 113\n",
    "\n",
    "\n"
   ]
  },
  {
   "cell_type": "markdown",
   "id": "7c763789-6e97-437c-972e-77b832409c4f",
   "metadata": {},
   "source": [
    "#Practical Questions:\n"
   ]
  },
  {
   "cell_type": "code",
   "execution_count": 41,
   "id": "a72bc6d4-e9c7-4dfb-adc2-ab48665074a3",
   "metadata": {},
   "outputs": [
    {
     "data": {
      "text/plain": [
       "6"
      ]
     },
     "execution_count": 41,
     "metadata": {},
     "output_type": "execute_result"
    }
   ],
   "source": [
    "#Q1. Write a Python function that takes a list of numbers as input and returns the sum of all even numbers in the list.\n",
    "#Ans. Here's a simple Python function that takes a list of numbers and returns the sum of all even numbers in the list:\n",
    "def sum_even_numbers(numbers):\n",
    "    even_sum = 0\n",
    "    for num in numbers:\n",
    "        if num % 2 == 0:\n",
    "            even_sum += num\n",
    "    return even_sum\n",
    "\n",
    "sum_even_numbers(numbers)"
   ]
  },
  {
   "cell_type": "code",
   "execution_count": 51,
   "id": "492f8e8b-8cb8-4e0e-aea9-fd20eb80059b",
   "metadata": {},
   "outputs": [
    {
     "name": "stdout",
     "output_type": "stream",
     "text": [
      "Reversed: !dlroW ,olleH\n"
     ]
    }
   ],
   "source": [
    "#Q2. Create a Python function that accepts a string and returns the reverse of that string\n",
    "#Ans. Here's a simple Python function that takes a string as input and returns its reverse:\n",
    "input_str = \"Hello, World!\"\n",
    "reversed_str = reverse_string(input_str)\n",
    "print(\"Reversed:\", reversed_str)\n"
   ]
  },
  {
   "cell_type": "code",
   "execution_count": 57,
   "id": "667456db-8469-4f49-a0fa-f654ceab87be",
   "metadata": {},
   "outputs": [
    {
     "data": {
      "text/plain": [
       "[1, 4, 9, 16, 25]"
      ]
     },
     "execution_count": 57,
     "metadata": {},
     "output_type": "execute_result"
    }
   ],
   "source": [
    "#Q3.  Implement a Python function that takes a list of integers and returns a new list containing the squares of each number.\n",
    "#Ans. Here's a simple Python function that takes a list of integers and returns a new list with the squares of each number.\n",
    "def square_numbers(numbers):\n",
    "    return list(map(lambda x: x ** 2, numbers))\n",
    "\n",
    "square_numbers(numbers)\n"
   ]
  },
  {
   "cell_type": "code",
   "execution_count": 61,
   "id": "747a263f-2977-4486-ad1c-b4c9ed6554a8",
   "metadata": {},
   "outputs": [
    {
     "name": "stdout",
     "output_type": "stream",
     "text": [
      "2 is a prime number\n",
      "3 is a prime number\n",
      "5 is a prime number\n",
      "7 is a prime number\n",
      "11 is a prime number\n",
      "13 is a prime number\n",
      "17 is a prime number\n",
      "19 is a prime number\n",
      "23 is a prime number\n",
      "29 is a prime number\n",
      "31 is a prime number\n",
      "37 is a prime number\n",
      "41 is a prime number\n",
      "43 is a prime number\n",
      "47 is a prime number\n",
      "53 is a prime number\n",
      "59 is a prime number\n",
      "61 is a prime number\n",
      "67 is a prime number\n",
      "71 is a prime number\n",
      "73 is a prime number\n",
      "79 is a prime number\n",
      "83 is a prime number\n",
      "89 is a prime number\n",
      "97 is a prime number\n",
      "101 is a prime number\n",
      "103 is a prime number\n",
      "107 is a prime number\n",
      "109 is a prime number\n",
      "113 is a prime number\n",
      "127 is a prime number\n",
      "131 is a prime number\n",
      "137 is a prime number\n",
      "139 is a prime number\n",
      "149 is a prime number\n",
      "151 is a prime number\n",
      "157 is a prime number\n",
      "163 is a prime number\n",
      "167 is a prime number\n",
      "173 is a prime number\n",
      "179 is a prime number\n",
      "181 is a prime number\n",
      "191 is a prime number\n",
      "193 is a prime number\n",
      "197 is a prime number\n",
      "199 is a prime number\n"
     ]
    }
   ],
   "source": [
    "#Q4. Write a Python function that checks if a given number is prime or not from 1 to 200.\n",
    "#Ans.  Here's a Python function that checks whether a given number from 1 to 200 is prime or not:\n",
    "def is_prime(n):\n",
    "    if n < 2:\n",
    "        return False  # 0 and 1 are not prime numbers\n",
    "    for i in range(2, int(n**0.5) + 1):  # Check divisibility up to square root of n\n",
    "        if n % i == 0:\n",
    "            return False\n",
    "    return True\n",
    "\n",
    "# Check and print prime numbers from 1 to 200\n",
    "for num in range(1, 201):\n",
    "    if is_prime(num):\n",
    "        print(num, \"is a prime number\")\n",
    "\n"
   ]
  },
  {
   "cell_type": "code",
   "execution_count": 63,
   "id": "e62f7773-5445-4eab-bc3d-59b0bca64aed",
   "metadata": {},
   "outputs": [],
   "source": [
    "#Q5. Create an iterator class in Python that generates the Fibonacci sequence up to a specified number of terms.\n",
    "#Ans. Here's how you can create a custom iterator class in Python to generate the Fibonacci sequence up to a specified number of terms:\n",
    "class FibonacciIterator:\n",
    "    def __init__(self, max_terms):\n",
    "        self.max_terms = max_terms\n",
    "        self.count = 0\n",
    "        self.a, self.b = 0, 1  # Starting values of Fibonacci sequence\n",
    "\n",
    "    def __iter__(self):\n",
    "        return self  # The iterator object itself\n",
    "\n",
    "    def __next__(self):\n",
    "        if self.count >= self.max_terms:\n",
    "            raise StopIteration  # Stop when reaching the max number of terms\n",
    "        if self.count == 0:\n",
    "            self.count += 1\n",
    "            return 0\n",
    "        elif self.count == 1:\n",
    "            self.count += 1\n",
    "            return 1\n",
    "        else:\n",
    "            self.a, self.b = self.b, self.a + self.b\n",
    "            self.count += 1\n",
    "            return self.a\n"
   ]
  },
  {
   "cell_type": "code",
   "execution_count": 69,
   "id": "665c40dc-7e22-431a-90cd-290f61c9092c",
   "metadata": {},
   "outputs": [
    {
     "ename": "IndentationError",
     "evalue": "expected an indented block after 'for' statement on line 6 (432365135.py, line 7)",
     "output_type": "error",
     "traceback": [
      "\u001b[1;36m  Cell \u001b[1;32mIn[69], line 7\u001b[1;36m\u001b[0m\n\u001b[1;33m    print(power)\u001b[0m\n\u001b[1;37m    ^\u001b[0m\n\u001b[1;31mIndentationError\u001b[0m\u001b[1;31m:\u001b[0m expected an indented block after 'for' statement on line 6\n"
     ]
    }
   ],
   "source": [
    "#Q6.  Write a generator function in Python that yields the powers of 2 up to a given exponent\n",
    "#Ans. Here's a generator function in Python that yields the powers of 2 up to a given exponent:\n",
    "def powers_of_two(max_exponent):\n",
    "    for i in range(max_exponent + 1):\n",
    "        yield 2 ** i\n",
    "        for power in powers_of_two(5):\n",
    "    print(power)\n",
    "\n"
   ]
  },
  {
   "cell_type": "code",
   "execution_count": 71,
   "id": "24a97021-9029-47fe-a111-fdc9ffa77f6c",
   "metadata": {},
   "outputs": [],
   "source": [
    "#Q7. . Implement a generator function that reads a file line by line and yields each line as a string.\n",
    "#Ans. Here's how you can implement a generator function in Python that reads a file line by line and yields each line as a string:\n",
    "def read_file_line_by_line(filename):\n",
    "    with open(filename, 'r') as file:\n",
    "        for line in file:\n",
    "            yield line.strip()  # Strip to remove leading/trailing whitespace (optional)\n"
   ]
  },
  {
   "cell_type": "code",
   "execution_count": 73,
   "id": "505c6c6c-f1b3-4024-bc35-b98186f35f38",
   "metadata": {},
   "outputs": [
    {
     "name": "stdout",
     "output_type": "stream",
     "text": [
      "[(5, 0), (4, 1), (2, 2), (1, 3)]\n"
     ]
    }
   ],
   "source": [
    "#Q8.  Use a lambda function in Python to sort a list of tuples based on the second element of each tuple.\n",
    "#Ans. Here's how you can use a lambda function to sort a list of tuples based on the second element of each tuple:\n",
    "# List of tuples\n",
    "data = [(1, 3), (4, 1), (2, 2), (5, 0)]\n",
    "\n",
    "# Sort using lambda function based on the second element\n",
    "sorted_data = sorted(data, key=lambda x: x[1])\n",
    "\n",
    "print(sorted_data)\n",
    "\n"
   ]
  },
  {
   "cell_type": "code",
   "execution_count": 75,
   "id": "f730fee9-1c74-43e0-9156-49f9673b823f",
   "metadata": {},
   "outputs": [
    {
     "name": "stdout",
     "output_type": "stream",
     "text": [
      "Celsius: [0, 20, 30, 37, 100]\n",
      "Fahrenheit: [32.0, 68.0, 86.0, 98.6, 212.0]\n"
     ]
    }
   ],
   "source": [
    "#Q9.  Write a Python program that uses `map()` to convert a list of temperatures from Celsius to Fahrenhe.\n",
    "#Ans. Here's a simple Python program that uses the map() function to convert a list of temperatures from Celsius to Fahrenheit.\n",
    "# List of temperatures in Celsius\n",
    "celsius_temps = [0, 20, 30, 37, 100]\n",
    "\n",
    "# Use map to convert to Fahrenheit\n",
    "fahrenheit_temps = list(map(lambda c: (c * 9/5) + 32, celsius_temps))\n",
    "\n",
    "# Print the result\n",
    "print(\"Celsius:\", celsius_temps)\n",
    "print(\"Fahrenheit:\", fahrenheit_temps)\n"
   ]
  },
  {
   "cell_type": "code",
   "execution_count": 77,
   "id": "5bc5231e-35de-4747-bb84-4601075c8561",
   "metadata": {},
   "outputs": [
    {
     "name": "stdout",
     "output_type": "stream",
     "text": [
      "Original String: Hello, World!\n",
      "Without Vowels: Hll, Wrld!\n"
     ]
    }
   ],
   "source": [
    "#Q10.  Create a Python program that uses `filter()` to remove all the vowels from a given string.\n",
    "#Ans. Here's a simple Python program that uses the filter() function to remove all vowels from a given string.\n",
    "def remove_vowels(input_string):\n",
    "    vowels = 'aeiouAEIOU'\n",
    "    return ''.join(filter(lambda char: char not in vowels, input_string))\n",
    "\n",
    "# Example usage\n",
    "text = \"Hello, World!\"\n",
    "result = remove_vowels(text)\n",
    "print(\"Original String:\", text)\n",
    "print(\"Without Vowels:\", result)\n"
   ]
  },
  {
   "cell_type": "code",
   "execution_count": null,
   "id": "cbff2d2e-bb7f-4a07-8cd0-a61c84894e64",
   "metadata": {},
   "outputs": [],
   "source": [
    "#Q11. \n",
    "#Ans. here is the python code:\n",
    "# Original data as a list of sublists\n",
    "orders = [\n",
    "    [34587, \"Learning Python, Mark Lutz\", 4, 40.95],\n",
    "    [98762, \"Programming Python, Mark Lutz\", 5, 56.80],\n",
    "    [77226, \"Head First Python, Paul Barry\", 3, 32.95],\n",
    "    [88112, \"Einführung in Python3, Bernd Klein\", 3, 24.99]\n",
    "]\n",
    "\n",
    "# Process the list with lambda and map\n",
    "result = list(map(lambda order: (order[0], order[2] * order[3] if order[2] * order[3] >= 100 else order[2] * order[3] + 10), orders))\n",
    "\n",
    "# Output result\n",
    "print(result)"
   ]
  }
 ],
 "metadata": {
  "kernelspec": {
   "display_name": "Python [conda env:base] *",
   "language": "python",
   "name": "conda-base-py"
  },
  "language_info": {
   "codemirror_mode": {
    "name": "ipython",
    "version": 3
   },
   "file_extension": ".py",
   "mimetype": "text/x-python",
   "name": "python",
   "nbconvert_exporter": "python",
   "pygments_lexer": "ipython3",
   "version": "3.12.7"
  }
 },
 "nbformat": 4,
 "nbformat_minor": 5
}
